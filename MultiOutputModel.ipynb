{
  "nbformat": 4,
  "nbformat_minor": 0,
  "metadata": {
    "colab": {
      "provenance": []
    },
    "kernelspec": {
      "name": "python3",
      "display_name": "Python 3"
    },
    "language_info": {
      "name": "python"
    }
  },
  "cells": [
    {
      "cell_type": "markdown",
      "source": [
        "# Creating a Multi Output Model"
      ],
      "metadata": {
        "id": "ZPdGWABD7msN"
      }
    },
    {
      "cell_type": "markdown",
      "source": [
        "Creating a Keras model with multiple outputs using the functional API is a powerful way to handle complex neural network architectures. I'll demonstrate this by constructing a simple model with two outputs. We'll then generate some dummy data to train this model.\n",
        "\n",
        "Here is the step-by-step process:\n",
        "\n",
        "1. Define the Model: We'll create a model with a single input layer and two separate output layers.\n",
        "\n",
        "2. Generate Dummy Data: To train and test the model, we'll create some dummy data that matches the input and output specifications of our model.\n",
        "\n",
        "3. Compile and Train the Model: We'll compile the model, specifying the loss function and optimizer, and then train the model on our dummy data."
      ],
      "metadata": {
        "id": "yJnZ84dB7p0P"
      }
    },
    {
      "cell_type": "code",
      "execution_count": 3,
      "metadata": {
        "id": "oU8wPBwDDkGl"
      },
      "outputs": [],
      "source": [
        "import tensorflow as tf\n",
        "from tensorflow.keras.layers import Input, Dense\n",
        "from tensorflow.keras.models import Model\n",
        "import numpy as np\n",
        "\n",
        "# Step 1: Define the model\n",
        "input_layer = Input(shape=(10,))  # Assuming input features are of size 10\n",
        "dense_layer = Dense(64, activation='relu')(input_layer)\n",
        "\n",
        "# Two separate output layers\n",
        "output1 =Dense(1,activation=\"sigmoid\",name=\"output1\")(dense_layer)  # Binary classification output\n",
        "output2 =Dense(5,activation=\"softmax\",name=\"output2\")(dense_layer)  # Multiclass classification output\n",
        "\n",
        "# Create the model\n",
        "model = Model(inputs=input_layer,outputs=[output1,output2])\n"
      ]
    },
    {
      "cell_type": "code",
      "source": [
        "# Step 2: Generate dummy data\n",
        "# Dummy input data\n",
        "x_dummy = np.random.random((1000, 10))\n",
        "\n",
        "# Dummy output data\n",
        "y_dummy_output1 = np.random.randint(2, size=(1000, 1))  # Binary labels\n",
        "y_dummy_output2 = np.random.randint(5, size=(1000, 5))  # One-hot encoded labels for 5 classes\n"
      ],
      "metadata": {
        "id": "luK0zqtC72uE"
      },
      "execution_count": 4,
      "outputs": []
    },
    {
      "cell_type": "code",
      "source": [
        "# Step 3: Compile and train the model\n",
        "model.compile(optimizer='adam',\n",
        "              loss={'output1':'binary_crossentropy','output2':'categorical_crossentropy'},\n",
        "              metrics={'output1':['accuracy'],'output2':['accuracy']})\n",
        "\n",
        "model.fit(x_dummy,{'output1':y_dummy_output1,'output2':y_dummy_output2},epochs=10)\n"
      ],
      "metadata": {
        "id": "wF8OdW3575g1",
        "colab": {
          "base_uri": "https://localhost:8080/"
        },
        "outputId": "7900a337-ab89-4a0f-9657-92897ce5a731"
      },
      "execution_count": 9,
      "outputs": [
        {
          "output_type": "stream",
          "name": "stdout",
          "text": [
            "Epoch 1/10\n",
            "\u001b[1m32/32\u001b[0m \u001b[32m━━━━━━━━━━━━━━━━━━━━\u001b[0m\u001b[37m\u001b[0m \u001b[1m2s\u001b[0m 3ms/step - loss: 17.0558 - output1_accuracy: 0.5220 - output1_loss: 0.7065 - output2_accuracy: 0.1804 - output2_loss: 16.3484\n",
            "Epoch 2/10\n",
            "\u001b[1m32/32\u001b[0m \u001b[32m━━━━━━━━━━━━━━━━━━━━\u001b[0m\u001b[37m\u001b[0m \u001b[1m0s\u001b[0m 4ms/step - loss: 17.2572 - output1_accuracy: 0.5182 - output1_loss: 0.6955 - output2_accuracy: 0.2226 - output2_loss: 16.5553\n",
            "Epoch 3/10\n",
            "\u001b[1m32/32\u001b[0m \u001b[32m━━━━━━━━━━━━━━━━━━━━\u001b[0m\u001b[37m\u001b[0m \u001b[1m0s\u001b[0m 4ms/step - loss: 17.7119 - output1_accuracy: 0.5046 - output1_loss: 0.6980 - output2_accuracy: 0.1822 - output2_loss: 17.0144\n",
            "Epoch 4/10\n",
            "\u001b[1m32/32\u001b[0m \u001b[32m━━━━━━━━━━━━━━━━━━━━\u001b[0m\u001b[37m\u001b[0m \u001b[1m0s\u001b[0m 3ms/step - loss: 18.3516 - output1_accuracy: 0.5118 - output1_loss: 0.6936 - output2_accuracy: 0.1898 - output2_loss: 17.6541\n",
            "Epoch 5/10\n",
            "\u001b[1m32/32\u001b[0m \u001b[32m━━━━━━━━━━━━━━━━━━━━\u001b[0m\u001b[37m\u001b[0m \u001b[1m0s\u001b[0m 4ms/step - loss: 19.6962 - output1_accuracy: 0.4831 - output1_loss: 0.7023 - output2_accuracy: 0.1878 - output2_loss: 18.9893\n",
            "Epoch 6/10\n",
            "\u001b[1m32/32\u001b[0m \u001b[32m━━━━━━━━━━━━━━━━━━━━\u001b[0m\u001b[37m\u001b[0m \u001b[1m0s\u001b[0m 3ms/step - loss: 20.7027 - output1_accuracy: 0.5247 - output1_loss: 0.6945 - output2_accuracy: 0.2103 - output2_loss: 20.0061\n",
            "Epoch 7/10\n",
            "\u001b[1m32/32\u001b[0m \u001b[32m━━━━━━━━━━━━━━━━━━━━\u001b[0m\u001b[37m\u001b[0m \u001b[1m0s\u001b[0m 3ms/step - loss: 21.7648 - output1_accuracy: 0.4757 - output1_loss: 0.7118 - output2_accuracy: 0.2085 - output2_loss: 21.0481\n",
            "Epoch 8/10\n",
            "\u001b[1m32/32\u001b[0m \u001b[32m━━━━━━━━━━━━━━━━━━━━\u001b[0m\u001b[37m\u001b[0m \u001b[1m0s\u001b[0m 3ms/step - loss: 23.6639 - output1_accuracy: 0.4796 - output1_loss: 0.6990 - output2_accuracy: 0.2228 - output2_loss: 22.9592\n",
            "Epoch 9/10\n",
            "\u001b[1m32/32\u001b[0m \u001b[32m━━━━━━━━━━━━━━━━━━━━\u001b[0m\u001b[37m\u001b[0m \u001b[1m0s\u001b[0m 4ms/step - loss: 25.0847 - output1_accuracy: 0.5225 - output1_loss: 0.7026 - output2_accuracy: 0.1723 - output2_loss: 24.3956\n",
            "Epoch 10/10\n",
            "\u001b[1m32/32\u001b[0m \u001b[32m━━━━━━━━━━━━━━━━━━━━\u001b[0m\u001b[37m\u001b[0m \u001b[1m0s\u001b[0m 4ms/step - loss: 26.2927 - output1_accuracy: 0.5230 - output1_loss: 0.6963 - output2_accuracy: 0.2016 - output2_loss: 25.5889\n"
          ]
        },
        {
          "output_type": "execute_result",
          "data": {
            "text/plain": [
              "<keras.src.callbacks.history.History at 0x7f2ad9d2b0d0>"
            ]
          },
          "metadata": {},
          "execution_count": 9
        }
      ]
    },
    {
      "cell_type": "markdown",
      "source": [
        "Once a Keras model is trained, you can evaluate its performance on a test dataset and use it to make predictions. Continuing from the previous example, I'll show you how to:\n",
        "\n",
        "1. Evaluate the Model: We'll evaluate the model on a separate set of dummy data to see how it performs.\n",
        "\n",
        "1. Use the Model for Prediction: We'll use the model to make predictions based on new input data."
      ],
      "metadata": {
        "id": "RYbDaqFR8ANo"
      }
    },
    {
      "cell_type": "code",
      "source": [
        "# Step 1: Evaluate the model\n",
        "\n",
        "# Generate some dummy test data\n",
        "x_dummy_test = np.random.random((200, 10))\n",
        "y_dummy_test_output1 = np.random.randint(2, size=(200, 1))  # Binary labels\n",
        "y_dummy_test_output2 = np.random.randint(5, size=(200, 5))  # One-hot encoded labels for 5 classes\n",
        "\n",
        "# Evaluate the model\n",
        "evaluation = model.evaluate(x_dummy_test,{'output1':y_dummy_test_output1,'output2':y_dummy_test_output2})\n",
        "print(f\"Test Loss, Test Accuracy for Output 1: {evaluation[1]}, {evaluation[3]}\")\n",
        "print(f\"Test Loss, Test Accuracy for Output 2: {evaluation[2]}, {evaluation[4]}\")\n"
      ],
      "metadata": {
        "id": "yfJdE2QY6jVB",
        "colab": {
          "base_uri": "https://localhost:8080/"
        },
        "outputId": "54c0ae41-2d17-4c63-ada0-6de6ddd0ec69"
      },
      "execution_count": 10,
      "outputs": [
        {
          "output_type": "stream",
          "name": "stdout",
          "text": [
            "\u001b[1m7/7\u001b[0m \u001b[32m━━━━━━━━━━━━━━━━━━━━\u001b[0m\u001b[37m\u001b[0m \u001b[1m1s\u001b[0m 11ms/step - loss: 26.8794 - output1_accuracy: 0.4533 - output1_loss: 0.6986 - output2_accuracy: 0.1389 - output2_loss: 26.2121 \n",
            "Test Loss, Test Accuracy for Output 1: 0.6986907720565796, 0.4650000035762787\n",
            "Test Loss, Test Accuracy for Output 2: 26.71578025817871, 0.125\n"
          ]
        }
      ]
    },
    {
      "cell_type": "code",
      "source": [
        "\n",
        "# Step 2: Use the model for prediction\n",
        "\n",
        "# New sample data for prediction\n",
        "new_sample = np.random.random((1, 10))\n",
        "\n",
        "# Making predictions\n",
        "predictions = model.predict(new_sample)\n",
        "print(f\"Predictions for Output 1 (Binary classification): {predictions[0]}\")\n",
        "print(f\"Predictions for Output 2 (Multiclass classification): {predictions[1]}\")\n"
      ],
      "metadata": {
        "id": "aExqPT_48EXT",
        "colab": {
          "base_uri": "https://localhost:8080/"
        },
        "outputId": "772058ed-676e-41e7-b9fe-08b60da9ca64"
      },
      "execution_count": 11,
      "outputs": [
        {
          "output_type": "stream",
          "name": "stdout",
          "text": [
            "\u001b[1m1/1\u001b[0m \u001b[32m━━━━━━━━━━━━━━━━━━━━\u001b[0m\u001b[37m\u001b[0m \u001b[1m0s\u001b[0m 123ms/step\n",
            "Predictions for Output 1 (Binary classification): [[0.54330945]]\n",
            "Predictions for Output 2 (Multiclass classification): [[0.12378565 0.00605706 0.3772084  0.34980288 0.14314595]]\n"
          ]
        }
      ]
    },
    {
      "cell_type": "code",
      "source": [],
      "metadata": {
        "id": "bFc2h1KL0Sy1"
      },
      "execution_count": null,
      "outputs": []
    }
  ]
}