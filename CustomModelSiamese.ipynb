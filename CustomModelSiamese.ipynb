{
  "nbformat": 4,
  "nbformat_minor": 0,
  "metadata": {
    "colab": {
      "provenance": []
    },
    "kernelspec": {
      "name": "python3",
      "display_name": "Python 3"
    },
    "language_info": {
      "name": "python"
    }
  },
  "cells": [
    {
      "cell_type": "markdown",
      "source": [
        "# Creating a Siamese Network"
      ],
      "metadata": {
        "id": "mAmGbT7jMunI"
      }
    },
    {
      "cell_type": "markdown",
      "source": [
        "Creating a Siamese Network Model in Keras with a custom layer and a custom loss function involves several steps. We'll start by defining the custom layer and the custom loss function, and then proceed to build the Siamese Network."
      ],
      "metadata": {
        "id": "RvsI8OkcM8W3"
      }
    },
    {
      "cell_type": "code",
      "source": [
        "import tensorflow as tf\n",
        "import numpy as np\n",
        "from tensorflow.keras.layers import Layer, Input, Dense, Flatten, Lambda\n",
        "from tensorflow.keras.models import Model\n",
        "\n",
        "class CustomLayer(Layer):\n",
        "    def __init__(self, units=32, **kwargs):\n",
        "        super(CustomLayer, self).__init__(**kwargs)\n",
        "        self.units = units\n",
        "\n",
        "    def build(self, input_shape):\n",
        "        self.w = self.add_weight(shape=(input_shape[-1],self.units),\n",
        "                                 initializer='random_normal',\n",
        "                                 trainable=True)# Create a simple trainable weight initialized randomly\n",
        "\n",
        "    def call(self, inputs):\n",
        "        return tf.matmul(input,self.weights)  # Apply to input\n"
      ],
      "metadata": {
        "id": "_7Me2snDM73I"
      },
      "execution_count": 1,
      "outputs": []
    },
    {
      "cell_type": "code",
      "source": [
        "import tensorflow as tf\n",
        "import numpy as np\n",
        "from tensorflow.keras.layers import Input, Dense, Flatten, Lambda\n",
        "from tensorflow.keras.models import Model\n",
        "\n",
        "# Contrastive loss function\n",
        "def contrastive_loss(y_true, y_pred):\n",
        "    margin = 1.0\n",
        "    y_true = tf.cast(y_true, tf.float32)  # Cast labels to float\n",
        "    square_pred = tf.square(y_pred)  # (D)^2 for similar pairs\n",
        "    margin_square = tf.square(tf.maximum(margin - y_pred, 0))  # (max(margin - D, 0))^2 for dissimilar pairs\n",
        "    return tf.reduce_mean(y_true * square_pred + (1 - y_true) * margin_square)\n"
      ],
      "metadata": {
        "id": "aJ8PbbukNBwT"
      },
      "execution_count": 13,
      "outputs": []
    },
    {
      "cell_type": "markdown",
      "source": [
        "A Siamese Network consists of two identical subnetworks with shared weights."
      ],
      "metadata": {
        "id": "MP9CreVHNJT-"
      }
    },
    {
      "cell_type": "code",
      "source": [
        "def build_base_network(input_shape):\n",
        "    input = Input(shape=input_shape)\n",
        "    x = Flatten()(input)\n",
        "    x = Dense(128, activation='relu')(x)\n",
        "    x = Dense(64, activation='relu')(x)\n",
        "    return Model(input, x)\n",
        "\n",
        "\n",
        "input_shape = (28, 28)\n",
        "base_network = build_base_network(input_shape)\n",
        "\n",
        "input_a = Input(shape=input_shape)\n",
        "input_b = Input(shape=input_shape)\n",
        "\n",
        "processed_a = base_network(input_a)\n",
        "processed_b = base_network(input_b)\n",
        "\n",
        "# Euclidean distance layer\n",
        "distance = Lambda(lambda embeddings: tf.sqrt(\n",
        "    tf.reduce_sum(tf.square(embeddings[0] - embeddings[1]), axis=1, keepdims=True)\n",
        "))([processed_a, processed_b])\n",
        "\n",
        "# Siamese model\n",
        "model = Model([input_a, input_b], distance)\n",
        "\n",
        "# Compile with custom loss\n",
        "model.compile(loss=contrastive_loss, optimizer='adam')\n"
      ],
      "metadata": {
        "id": "9vuszEKpNGnF"
      },
      "execution_count": 14,
      "outputs": []
    },
    {
      "cell_type": "markdown",
      "source": [
        "Let's create some dummy data to train the Siamese Network. In a real-world scenario, this would be pairs of images and a label indicating whether they are similar or not. For simplicity, we will create random numpy arrays as dummy data. The concept remains the same for actual image data."
      ],
      "metadata": {
        "id": "IHAw4VEUNTla"
      }
    },
    {
      "cell_type": "code",
      "source": [
        "def generate_dummy_data(num_samples=1000, input_shape=(28, 28)):\n",
        "    data = np.random.random((num_samples, *input_shape))\n",
        "    labels = np.random.randint(0, 2, (num_samples, 1))\n",
        "    return data, labels\n",
        "\n",
        "num_samples = 1000\n",
        "data_a, labels_a = generate_dummy_data(num_samples, input_shape)\n",
        "data_b, labels_b = generate_dummy_data(num_samples, input_shape)\n",
        "\n",
        "# Label = 1 if same, else 0\n",
        "labels = (labels_a == labels_b).astype(float)\n"
      ],
      "metadata": {
        "id": "SgM9Q3OJNXMW"
      },
      "execution_count": 15,
      "outputs": []
    },
    {
      "cell_type": "code",
      "source": [
        "model.fit([data_a, data_b], labels, epochs=10, batch_size=128)\n"
      ],
      "metadata": {
        "colab": {
          "base_uri": "https://localhost:8080/"
        },
        "id": "Skuf_bi9j4b_",
        "outputId": "ed6a5bd3-3605-44ab-9cfa-3cfc573dfd75"
      },
      "execution_count": 16,
      "outputs": [
        {
          "output_type": "stream",
          "name": "stdout",
          "text": [
            "Epoch 1/10\n",
            "\u001b[1m8/8\u001b[0m \u001b[32m━━━━━━━━━━━━━━━━━━━━\u001b[0m\u001b[37m\u001b[0m \u001b[1m2s\u001b[0m 9ms/step - loss: 1.7858\n",
            "Epoch 2/10\n",
            "\u001b[1m8/8\u001b[0m \u001b[32m━━━━━━━━━━━━━━━━━━━━\u001b[0m\u001b[37m\u001b[0m \u001b[1m0s\u001b[0m 8ms/step - loss: 0.3039 \n",
            "Epoch 3/10\n",
            "\u001b[1m8/8\u001b[0m \u001b[32m━━━━━━━━━━━━━━━━━━━━\u001b[0m\u001b[37m\u001b[0m \u001b[1m0s\u001b[0m 9ms/step - loss: 0.2487 \n",
            "Epoch 4/10\n",
            "\u001b[1m8/8\u001b[0m \u001b[32m━━━━━━━━━━━━━━━━━━━━\u001b[0m\u001b[37m\u001b[0m \u001b[1m0s\u001b[0m 9ms/step - loss: 0.2185 \n",
            "Epoch 5/10\n",
            "\u001b[1m8/8\u001b[0m \u001b[32m━━━━━━━━━━━━━━━━━━━━\u001b[0m\u001b[37m\u001b[0m \u001b[1m0s\u001b[0m 9ms/step - loss: 0.1926 \n",
            "Epoch 6/10\n",
            "\u001b[1m8/8\u001b[0m \u001b[32m━━━━━━━━━━━━━━━━━━━━\u001b[0m\u001b[37m\u001b[0m \u001b[1m0s\u001b[0m 8ms/step - loss: 0.1706 \n",
            "Epoch 7/10\n",
            "\u001b[1m8/8\u001b[0m \u001b[32m━━━━━━━━━━━━━━━━━━━━\u001b[0m\u001b[37m\u001b[0m \u001b[1m0s\u001b[0m 9ms/step - loss: 0.1576 \n",
            "Epoch 8/10\n",
            "\u001b[1m8/8\u001b[0m \u001b[32m━━━━━━━━━━━━━━━━━━━━\u001b[0m\u001b[37m\u001b[0m \u001b[1m0s\u001b[0m 8ms/step - loss: 0.1382 \n",
            "Epoch 9/10\n",
            "\u001b[1m8/8\u001b[0m \u001b[32m━━━━━━━━━━━━━━━━━━━━\u001b[0m\u001b[37m\u001b[0m \u001b[1m0s\u001b[0m 9ms/step - loss: 0.1247 \n",
            "Epoch 10/10\n",
            "\u001b[1m8/8\u001b[0m \u001b[32m━━━━━━━━━━━━━━━━━━━━\u001b[0m\u001b[37m\u001b[0m \u001b[1m0s\u001b[0m 8ms/step - loss: 0.1105 \n"
          ]
        },
        {
          "output_type": "execute_result",
          "data": {
            "text/plain": [
              "<keras.src.callbacks.history.History at 0x7afd9713ca90>"
            ]
          },
          "metadata": {},
          "execution_count": 16
        }
      ]
    },
    {
      "cell_type": "code",
      "source": [],
      "metadata": {
        "id": "9LYXxe5flDIQ"
      },
      "execution_count": null,
      "outputs": []
    }
  ]
}